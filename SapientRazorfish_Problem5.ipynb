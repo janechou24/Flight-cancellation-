{
 "cells": [
  {
   "cell_type": "markdown",
   "metadata": {},
   "source": [
    "# 5.  Predicting Flight Delays:"
   ]
  },
  {
   "cell_type": "markdown",
   "metadata": {},
   "source": [
    "## 1. Get to know the problem "
   ]
  },
  {
   "cell_type": "markdown",
   "metadata": {},
   "source": [
    "This is a binary classification problem using mostly numerical predictators, except for one feature, UniqueCarrier is the categorical data. \n",
    "\n",
    "Here I built several different models to predict whether a flight will be canceled based on several factors.\n",
    "\n",
    "But I will start with logistic regression model, since our client want to know which airline (AA,UA, and DL) has the least risk of cancellation. "
   ]
  },
  {
   "cell_type": "markdown",
   "metadata": {},
   "source": [
    "##  2. Which airline has the least risk of cancellation"
   ]
  },
  {
   "cell_type": "markdown",
   "metadata": {},
   "source": [
    "Here, the eight variables are very self-explanative. "
   ]
  },
  {
   "cell_type": "markdown",
   "metadata": {},
   "source": [
    "###  2.1 Loading  the data"
   ]
  },
  {
   "cell_type": "code",
   "execution_count": 161,
   "metadata": {},
   "outputs": [],
   "source": [
    " # Import pandas \n",
    "import pandas as pd\n",
    "\n",
    "# Read data \n",
    "data = pd.read_csv(\"/users/janechou24/Python/exercise/CancelledFlights.csv\", names=['Canceled','Month','DepartureTime','UniqueCarrier','SchedElapsedTime','ArrDelay','DepDelay','Distance'])\n",
    "\n",
    "\n"
   ]
  },
  {
   "cell_type": "markdown",
   "metadata": {},
   "source": [
    "### 2.2 Summary statistics & looking at the data"
   ]
  },
  {
   "cell_type": "code",
   "execution_count": 164,
   "metadata": {},
   "outputs": [
    {
     "name": "stdout",
     "output_type": "stream",
     "text": [
      "          Canceled        Month  DepartureTime  SchedElapsedTime     ArrDelay  \\\n",
      "count  6000.000000  6000.000000    6000.000000       6000.000000  6000.000000   \n",
      "mean      0.166667     6.220167    1330.466500        161.693500     8.113000   \n",
      "std       0.372709     3.436325     459.118234         78.064979    35.763134   \n",
      "min       0.000000     1.000000       5.000000         40.000000   -72.000000   \n",
      "25%       0.000000     3.000000     930.000000        105.000000    -8.000000   \n",
      "50%       0.000000     6.000000    1325.000000        145.000000     0.000000   \n",
      "75%       0.000000     9.000000    1715.000000        200.000000    10.000000   \n",
      "max       1.000000    12.000000    2359.000000        604.000000   410.000000   \n",
      "\n",
      "          DepDelay     Distance  \n",
      "count  6000.000000  6000.000000  \n",
      "mean      9.148833   987.588833  \n",
      "std      31.669299   646.666931  \n",
      "min     -16.000000    68.000000  \n",
      "25%      -3.000000   547.000000  \n",
      "50%       0.000000   837.000000  \n",
      "75%       6.000000  1249.000000  \n",
      "max     387.000000  4502.000000  \n"
     ]
    }
   ],
   "source": [
    "import pandas as pd\n",
    "import statsmodels.api as sm\n",
    "import pylab as pl\n",
    "import numpy as np\n",
    "\n",
    "# summary the data\n",
    "print(data.describe())\n"
   ]
  },
  {
   "cell_type": "code",
   "execution_count": 165,
   "metadata": {},
   "outputs": [
    {
     "name": "stdout",
     "output_type": "stream",
     "text": [
      "   Canceled  Month  DepartureTime UniqueCarrier  SchedElapsedTime  ArrDelay  \\\n",
      "0         1     12            814            UA               134         0   \n",
      "1         1     12            830            DL                90         0   \n",
      "2         1      1           1835            UA               213         0   \n",
      "3         1      4           1730            AA                80         0   \n",
      "4         1      7           1442            UA               103         0   \n",
      "\n",
      "   DepDelay  Distance  \n",
      "0         0       679  \n",
      "1         0       214  \n",
      "2         0      1605  \n",
      "3         0       235  \n",
      "4         0       413  \n"
     ]
    }
   ],
   "source": [
    "# And take a look of it \n",
    "print(data.head())\n"
   ]
  },
  {
   "cell_type": "code",
   "execution_count": 166,
   "metadata": {},
   "outputs": [
    {
     "data": {
      "text/html": [
       "<div>\n",
       "<style>\n",
       "    .dataframe thead tr:only-child th {\n",
       "        text-align: right;\n",
       "    }\n",
       "\n",
       "    .dataframe thead th {\n",
       "        text-align: left;\n",
       "    }\n",
       "\n",
       "    .dataframe tbody tr th {\n",
       "        vertical-align: top;\n",
       "    }\n",
       "</style>\n",
       "<table border=\"1\" class=\"dataframe\">\n",
       "  <thead>\n",
       "    <tr style=\"text-align: right;\">\n",
       "      <th></th>\n",
       "      <th>Canceled</th>\n",
       "      <th>Month</th>\n",
       "      <th>DepartureTime</th>\n",
       "      <th>UniqueCarrier</th>\n",
       "      <th>SchedElapsedTime</th>\n",
       "      <th>ArrDelay</th>\n",
       "      <th>DepDelay</th>\n",
       "      <th>Distance</th>\n",
       "    </tr>\n",
       "  </thead>\n",
       "  <tbody>\n",
       "    <tr>\n",
       "      <th>0</th>\n",
       "      <td>False</td>\n",
       "      <td>False</td>\n",
       "      <td>False</td>\n",
       "      <td>False</td>\n",
       "      <td>False</td>\n",
       "      <td>False</td>\n",
       "      <td>False</td>\n",
       "      <td>False</td>\n",
       "    </tr>\n",
       "    <tr>\n",
       "      <th>1</th>\n",
       "      <td>False</td>\n",
       "      <td>False</td>\n",
       "      <td>False</td>\n",
       "      <td>False</td>\n",
       "      <td>False</td>\n",
       "      <td>False</td>\n",
       "      <td>False</td>\n",
       "      <td>False</td>\n",
       "    </tr>\n",
       "    <tr>\n",
       "      <th>2</th>\n",
       "      <td>False</td>\n",
       "      <td>False</td>\n",
       "      <td>False</td>\n",
       "      <td>False</td>\n",
       "      <td>False</td>\n",
       "      <td>False</td>\n",
       "      <td>False</td>\n",
       "      <td>False</td>\n",
       "    </tr>\n",
       "    <tr>\n",
       "      <th>3</th>\n",
       "      <td>False</td>\n",
       "      <td>False</td>\n",
       "      <td>False</td>\n",
       "      <td>False</td>\n",
       "      <td>False</td>\n",
       "      <td>False</td>\n",
       "      <td>False</td>\n",
       "      <td>False</td>\n",
       "    </tr>\n",
       "    <tr>\n",
       "      <th>4</th>\n",
       "      <td>False</td>\n",
       "      <td>False</td>\n",
       "      <td>False</td>\n",
       "      <td>False</td>\n",
       "      <td>False</td>\n",
       "      <td>False</td>\n",
       "      <td>False</td>\n",
       "      <td>False</td>\n",
       "    </tr>\n",
       "    <tr>\n",
       "      <th>5</th>\n",
       "      <td>False</td>\n",
       "      <td>False</td>\n",
       "      <td>False</td>\n",
       "      <td>False</td>\n",
       "      <td>False</td>\n",
       "      <td>False</td>\n",
       "      <td>False</td>\n",
       "      <td>False</td>\n",
       "    </tr>\n",
       "    <tr>\n",
       "      <th>6</th>\n",
       "      <td>False</td>\n",
       "      <td>False</td>\n",
       "      <td>False</td>\n",
       "      <td>False</td>\n",
       "      <td>False</td>\n",
       "      <td>False</td>\n",
       "      <td>False</td>\n",
       "      <td>False</td>\n",
       "    </tr>\n",
       "    <tr>\n",
       "      <th>7</th>\n",
       "      <td>False</td>\n",
       "      <td>False</td>\n",
       "      <td>False</td>\n",
       "      <td>False</td>\n",
       "      <td>False</td>\n",
       "      <td>False</td>\n",
       "      <td>False</td>\n",
       "      <td>False</td>\n",
       "    </tr>\n",
       "    <tr>\n",
       "      <th>8</th>\n",
       "      <td>False</td>\n",
       "      <td>False</td>\n",
       "      <td>False</td>\n",
       "      <td>False</td>\n",
       "      <td>False</td>\n",
       "      <td>False</td>\n",
       "      <td>False</td>\n",
       "      <td>False</td>\n",
       "    </tr>\n",
       "    <tr>\n",
       "      <th>9</th>\n",
       "      <td>False</td>\n",
       "      <td>False</td>\n",
       "      <td>False</td>\n",
       "      <td>False</td>\n",
       "      <td>False</td>\n",
       "      <td>False</td>\n",
       "      <td>False</td>\n",
       "      <td>False</td>\n",
       "    </tr>\n",
       "    <tr>\n",
       "      <th>10</th>\n",
       "      <td>False</td>\n",
       "      <td>False</td>\n",
       "      <td>False</td>\n",
       "      <td>False</td>\n",
       "      <td>False</td>\n",
       "      <td>False</td>\n",
       "      <td>False</td>\n",
       "      <td>False</td>\n",
       "    </tr>\n",
       "    <tr>\n",
       "      <th>11</th>\n",
       "      <td>False</td>\n",
       "      <td>False</td>\n",
       "      <td>False</td>\n",
       "      <td>False</td>\n",
       "      <td>False</td>\n",
       "      <td>False</td>\n",
       "      <td>False</td>\n",
       "      <td>False</td>\n",
       "    </tr>\n",
       "    <tr>\n",
       "      <th>12</th>\n",
       "      <td>False</td>\n",
       "      <td>False</td>\n",
       "      <td>False</td>\n",
       "      <td>False</td>\n",
       "      <td>False</td>\n",
       "      <td>False</td>\n",
       "      <td>False</td>\n",
       "      <td>False</td>\n",
       "    </tr>\n",
       "    <tr>\n",
       "      <th>13</th>\n",
       "      <td>False</td>\n",
       "      <td>False</td>\n",
       "      <td>False</td>\n",
       "      <td>False</td>\n",
       "      <td>False</td>\n",
       "      <td>False</td>\n",
       "      <td>False</td>\n",
       "      <td>False</td>\n",
       "    </tr>\n",
       "    <tr>\n",
       "      <th>14</th>\n",
       "      <td>False</td>\n",
       "      <td>False</td>\n",
       "      <td>False</td>\n",
       "      <td>False</td>\n",
       "      <td>False</td>\n",
       "      <td>False</td>\n",
       "      <td>False</td>\n",
       "      <td>False</td>\n",
       "    </tr>\n",
       "    <tr>\n",
       "      <th>15</th>\n",
       "      <td>False</td>\n",
       "      <td>False</td>\n",
       "      <td>False</td>\n",
       "      <td>False</td>\n",
       "      <td>False</td>\n",
       "      <td>False</td>\n",
       "      <td>False</td>\n",
       "      <td>False</td>\n",
       "    </tr>\n",
       "    <tr>\n",
       "      <th>16</th>\n",
       "      <td>False</td>\n",
       "      <td>False</td>\n",
       "      <td>False</td>\n",
       "      <td>False</td>\n",
       "      <td>False</td>\n",
       "      <td>False</td>\n",
       "      <td>False</td>\n",
       "      <td>False</td>\n",
       "    </tr>\n",
       "    <tr>\n",
       "      <th>17</th>\n",
       "      <td>False</td>\n",
       "      <td>False</td>\n",
       "      <td>False</td>\n",
       "      <td>False</td>\n",
       "      <td>False</td>\n",
       "      <td>False</td>\n",
       "      <td>False</td>\n",
       "      <td>False</td>\n",
       "    </tr>\n",
       "    <tr>\n",
       "      <th>18</th>\n",
       "      <td>False</td>\n",
       "      <td>False</td>\n",
       "      <td>False</td>\n",
       "      <td>False</td>\n",
       "      <td>False</td>\n",
       "      <td>False</td>\n",
       "      <td>False</td>\n",
       "      <td>False</td>\n",
       "    </tr>\n",
       "    <tr>\n",
       "      <th>19</th>\n",
       "      <td>False</td>\n",
       "      <td>False</td>\n",
       "      <td>False</td>\n",
       "      <td>False</td>\n",
       "      <td>False</td>\n",
       "      <td>False</td>\n",
       "      <td>False</td>\n",
       "      <td>False</td>\n",
       "    </tr>\n",
       "    <tr>\n",
       "      <th>20</th>\n",
       "      <td>False</td>\n",
       "      <td>False</td>\n",
       "      <td>False</td>\n",
       "      <td>False</td>\n",
       "      <td>False</td>\n",
       "      <td>False</td>\n",
       "      <td>False</td>\n",
       "      <td>False</td>\n",
       "    </tr>\n",
       "    <tr>\n",
       "      <th>21</th>\n",
       "      <td>False</td>\n",
       "      <td>False</td>\n",
       "      <td>False</td>\n",
       "      <td>False</td>\n",
       "      <td>False</td>\n",
       "      <td>False</td>\n",
       "      <td>False</td>\n",
       "      <td>False</td>\n",
       "    </tr>\n",
       "    <tr>\n",
       "      <th>22</th>\n",
       "      <td>False</td>\n",
       "      <td>False</td>\n",
       "      <td>False</td>\n",
       "      <td>False</td>\n",
       "      <td>False</td>\n",
       "      <td>False</td>\n",
       "      <td>False</td>\n",
       "      <td>False</td>\n",
       "    </tr>\n",
       "    <tr>\n",
       "      <th>23</th>\n",
       "      <td>False</td>\n",
       "      <td>False</td>\n",
       "      <td>False</td>\n",
       "      <td>False</td>\n",
       "      <td>False</td>\n",
       "      <td>False</td>\n",
       "      <td>False</td>\n",
       "      <td>False</td>\n",
       "    </tr>\n",
       "    <tr>\n",
       "      <th>24</th>\n",
       "      <td>False</td>\n",
       "      <td>False</td>\n",
       "      <td>False</td>\n",
       "      <td>False</td>\n",
       "      <td>False</td>\n",
       "      <td>False</td>\n",
       "      <td>False</td>\n",
       "      <td>False</td>\n",
       "    </tr>\n",
       "    <tr>\n",
       "      <th>25</th>\n",
       "      <td>False</td>\n",
       "      <td>False</td>\n",
       "      <td>False</td>\n",
       "      <td>False</td>\n",
       "      <td>False</td>\n",
       "      <td>False</td>\n",
       "      <td>False</td>\n",
       "      <td>False</td>\n",
       "    </tr>\n",
       "    <tr>\n",
       "      <th>26</th>\n",
       "      <td>False</td>\n",
       "      <td>False</td>\n",
       "      <td>False</td>\n",
       "      <td>False</td>\n",
       "      <td>False</td>\n",
       "      <td>False</td>\n",
       "      <td>False</td>\n",
       "      <td>False</td>\n",
       "    </tr>\n",
       "    <tr>\n",
       "      <th>27</th>\n",
       "      <td>False</td>\n",
       "      <td>False</td>\n",
       "      <td>False</td>\n",
       "      <td>False</td>\n",
       "      <td>False</td>\n",
       "      <td>False</td>\n",
       "      <td>False</td>\n",
       "      <td>False</td>\n",
       "    </tr>\n",
       "    <tr>\n",
       "      <th>28</th>\n",
       "      <td>False</td>\n",
       "      <td>False</td>\n",
       "      <td>False</td>\n",
       "      <td>False</td>\n",
       "      <td>False</td>\n",
       "      <td>False</td>\n",
       "      <td>False</td>\n",
       "      <td>False</td>\n",
       "    </tr>\n",
       "    <tr>\n",
       "      <th>29</th>\n",
       "      <td>False</td>\n",
       "      <td>False</td>\n",
       "      <td>False</td>\n",
       "      <td>False</td>\n",
       "      <td>False</td>\n",
       "      <td>False</td>\n",
       "      <td>False</td>\n",
       "      <td>False</td>\n",
       "    </tr>\n",
       "    <tr>\n",
       "      <th>...</th>\n",
       "      <td>...</td>\n",
       "      <td>...</td>\n",
       "      <td>...</td>\n",
       "      <td>...</td>\n",
       "      <td>...</td>\n",
       "      <td>...</td>\n",
       "      <td>...</td>\n",
       "      <td>...</td>\n",
       "    </tr>\n",
       "    <tr>\n",
       "      <th>5970</th>\n",
       "      <td>False</td>\n",
       "      <td>False</td>\n",
       "      <td>False</td>\n",
       "      <td>False</td>\n",
       "      <td>False</td>\n",
       "      <td>False</td>\n",
       "      <td>False</td>\n",
       "      <td>False</td>\n",
       "    </tr>\n",
       "    <tr>\n",
       "      <th>5971</th>\n",
       "      <td>False</td>\n",
       "      <td>False</td>\n",
       "      <td>False</td>\n",
       "      <td>False</td>\n",
       "      <td>False</td>\n",
       "      <td>False</td>\n",
       "      <td>False</td>\n",
       "      <td>False</td>\n",
       "    </tr>\n",
       "    <tr>\n",
       "      <th>5972</th>\n",
       "      <td>False</td>\n",
       "      <td>False</td>\n",
       "      <td>False</td>\n",
       "      <td>False</td>\n",
       "      <td>False</td>\n",
       "      <td>False</td>\n",
       "      <td>False</td>\n",
       "      <td>False</td>\n",
       "    </tr>\n",
       "    <tr>\n",
       "      <th>5973</th>\n",
       "      <td>False</td>\n",
       "      <td>False</td>\n",
       "      <td>False</td>\n",
       "      <td>False</td>\n",
       "      <td>False</td>\n",
       "      <td>False</td>\n",
       "      <td>False</td>\n",
       "      <td>False</td>\n",
       "    </tr>\n",
       "    <tr>\n",
       "      <th>5974</th>\n",
       "      <td>False</td>\n",
       "      <td>False</td>\n",
       "      <td>False</td>\n",
       "      <td>False</td>\n",
       "      <td>False</td>\n",
       "      <td>False</td>\n",
       "      <td>False</td>\n",
       "      <td>False</td>\n",
       "    </tr>\n",
       "    <tr>\n",
       "      <th>5975</th>\n",
       "      <td>False</td>\n",
       "      <td>False</td>\n",
       "      <td>False</td>\n",
       "      <td>False</td>\n",
       "      <td>False</td>\n",
       "      <td>False</td>\n",
       "      <td>False</td>\n",
       "      <td>False</td>\n",
       "    </tr>\n",
       "    <tr>\n",
       "      <th>5976</th>\n",
       "      <td>False</td>\n",
       "      <td>False</td>\n",
       "      <td>False</td>\n",
       "      <td>False</td>\n",
       "      <td>False</td>\n",
       "      <td>False</td>\n",
       "      <td>False</td>\n",
       "      <td>False</td>\n",
       "    </tr>\n",
       "    <tr>\n",
       "      <th>5977</th>\n",
       "      <td>False</td>\n",
       "      <td>False</td>\n",
       "      <td>False</td>\n",
       "      <td>False</td>\n",
       "      <td>False</td>\n",
       "      <td>False</td>\n",
       "      <td>False</td>\n",
       "      <td>False</td>\n",
       "    </tr>\n",
       "    <tr>\n",
       "      <th>5978</th>\n",
       "      <td>False</td>\n",
       "      <td>False</td>\n",
       "      <td>False</td>\n",
       "      <td>False</td>\n",
       "      <td>False</td>\n",
       "      <td>False</td>\n",
       "      <td>False</td>\n",
       "      <td>False</td>\n",
       "    </tr>\n",
       "    <tr>\n",
       "      <th>5979</th>\n",
       "      <td>False</td>\n",
       "      <td>False</td>\n",
       "      <td>False</td>\n",
       "      <td>False</td>\n",
       "      <td>False</td>\n",
       "      <td>False</td>\n",
       "      <td>False</td>\n",
       "      <td>False</td>\n",
       "    </tr>\n",
       "    <tr>\n",
       "      <th>5980</th>\n",
       "      <td>False</td>\n",
       "      <td>False</td>\n",
       "      <td>False</td>\n",
       "      <td>False</td>\n",
       "      <td>False</td>\n",
       "      <td>False</td>\n",
       "      <td>False</td>\n",
       "      <td>False</td>\n",
       "    </tr>\n",
       "    <tr>\n",
       "      <th>5981</th>\n",
       "      <td>False</td>\n",
       "      <td>False</td>\n",
       "      <td>False</td>\n",
       "      <td>False</td>\n",
       "      <td>False</td>\n",
       "      <td>False</td>\n",
       "      <td>False</td>\n",
       "      <td>False</td>\n",
       "    </tr>\n",
       "    <tr>\n",
       "      <th>5982</th>\n",
       "      <td>False</td>\n",
       "      <td>False</td>\n",
       "      <td>False</td>\n",
       "      <td>False</td>\n",
       "      <td>False</td>\n",
       "      <td>False</td>\n",
       "      <td>False</td>\n",
       "      <td>False</td>\n",
       "    </tr>\n",
       "    <tr>\n",
       "      <th>5983</th>\n",
       "      <td>False</td>\n",
       "      <td>False</td>\n",
       "      <td>False</td>\n",
       "      <td>False</td>\n",
       "      <td>False</td>\n",
       "      <td>False</td>\n",
       "      <td>False</td>\n",
       "      <td>False</td>\n",
       "    </tr>\n",
       "    <tr>\n",
       "      <th>5984</th>\n",
       "      <td>False</td>\n",
       "      <td>False</td>\n",
       "      <td>False</td>\n",
       "      <td>False</td>\n",
       "      <td>False</td>\n",
       "      <td>False</td>\n",
       "      <td>False</td>\n",
       "      <td>False</td>\n",
       "    </tr>\n",
       "    <tr>\n",
       "      <th>5985</th>\n",
       "      <td>False</td>\n",
       "      <td>False</td>\n",
       "      <td>False</td>\n",
       "      <td>False</td>\n",
       "      <td>False</td>\n",
       "      <td>False</td>\n",
       "      <td>False</td>\n",
       "      <td>False</td>\n",
       "    </tr>\n",
       "    <tr>\n",
       "      <th>5986</th>\n",
       "      <td>False</td>\n",
       "      <td>False</td>\n",
       "      <td>False</td>\n",
       "      <td>False</td>\n",
       "      <td>False</td>\n",
       "      <td>False</td>\n",
       "      <td>False</td>\n",
       "      <td>False</td>\n",
       "    </tr>\n",
       "    <tr>\n",
       "      <th>5987</th>\n",
       "      <td>False</td>\n",
       "      <td>False</td>\n",
       "      <td>False</td>\n",
       "      <td>False</td>\n",
       "      <td>False</td>\n",
       "      <td>False</td>\n",
       "      <td>False</td>\n",
       "      <td>False</td>\n",
       "    </tr>\n",
       "    <tr>\n",
       "      <th>5988</th>\n",
       "      <td>False</td>\n",
       "      <td>False</td>\n",
       "      <td>False</td>\n",
       "      <td>False</td>\n",
       "      <td>False</td>\n",
       "      <td>False</td>\n",
       "      <td>False</td>\n",
       "      <td>False</td>\n",
       "    </tr>\n",
       "    <tr>\n",
       "      <th>5989</th>\n",
       "      <td>False</td>\n",
       "      <td>False</td>\n",
       "      <td>False</td>\n",
       "      <td>False</td>\n",
       "      <td>False</td>\n",
       "      <td>False</td>\n",
       "      <td>False</td>\n",
       "      <td>False</td>\n",
       "    </tr>\n",
       "    <tr>\n",
       "      <th>5990</th>\n",
       "      <td>False</td>\n",
       "      <td>False</td>\n",
       "      <td>False</td>\n",
       "      <td>False</td>\n",
       "      <td>False</td>\n",
       "      <td>False</td>\n",
       "      <td>False</td>\n",
       "      <td>False</td>\n",
       "    </tr>\n",
       "    <tr>\n",
       "      <th>5991</th>\n",
       "      <td>False</td>\n",
       "      <td>False</td>\n",
       "      <td>False</td>\n",
       "      <td>False</td>\n",
       "      <td>False</td>\n",
       "      <td>False</td>\n",
       "      <td>False</td>\n",
       "      <td>False</td>\n",
       "    </tr>\n",
       "    <tr>\n",
       "      <th>5992</th>\n",
       "      <td>False</td>\n",
       "      <td>False</td>\n",
       "      <td>False</td>\n",
       "      <td>False</td>\n",
       "      <td>False</td>\n",
       "      <td>False</td>\n",
       "      <td>False</td>\n",
       "      <td>False</td>\n",
       "    </tr>\n",
       "    <tr>\n",
       "      <th>5993</th>\n",
       "      <td>False</td>\n",
       "      <td>False</td>\n",
       "      <td>False</td>\n",
       "      <td>False</td>\n",
       "      <td>False</td>\n",
       "      <td>False</td>\n",
       "      <td>False</td>\n",
       "      <td>False</td>\n",
       "    </tr>\n",
       "    <tr>\n",
       "      <th>5994</th>\n",
       "      <td>False</td>\n",
       "      <td>False</td>\n",
       "      <td>False</td>\n",
       "      <td>False</td>\n",
       "      <td>False</td>\n",
       "      <td>False</td>\n",
       "      <td>False</td>\n",
       "      <td>False</td>\n",
       "    </tr>\n",
       "    <tr>\n",
       "      <th>5995</th>\n",
       "      <td>False</td>\n",
       "      <td>False</td>\n",
       "      <td>False</td>\n",
       "      <td>False</td>\n",
       "      <td>False</td>\n",
       "      <td>False</td>\n",
       "      <td>False</td>\n",
       "      <td>False</td>\n",
       "    </tr>\n",
       "    <tr>\n",
       "      <th>5996</th>\n",
       "      <td>False</td>\n",
       "      <td>False</td>\n",
       "      <td>False</td>\n",
       "      <td>False</td>\n",
       "      <td>False</td>\n",
       "      <td>False</td>\n",
       "      <td>False</td>\n",
       "      <td>False</td>\n",
       "    </tr>\n",
       "    <tr>\n",
       "      <th>5997</th>\n",
       "      <td>False</td>\n",
       "      <td>False</td>\n",
       "      <td>False</td>\n",
       "      <td>False</td>\n",
       "      <td>False</td>\n",
       "      <td>False</td>\n",
       "      <td>False</td>\n",
       "      <td>False</td>\n",
       "    </tr>\n",
       "    <tr>\n",
       "      <th>5998</th>\n",
       "      <td>False</td>\n",
       "      <td>False</td>\n",
       "      <td>False</td>\n",
       "      <td>False</td>\n",
       "      <td>False</td>\n",
       "      <td>False</td>\n",
       "      <td>False</td>\n",
       "      <td>False</td>\n",
       "    </tr>\n",
       "    <tr>\n",
       "      <th>5999</th>\n",
       "      <td>False</td>\n",
       "      <td>False</td>\n",
       "      <td>False</td>\n",
       "      <td>False</td>\n",
       "      <td>False</td>\n",
       "      <td>False</td>\n",
       "      <td>False</td>\n",
       "      <td>False</td>\n",
       "    </tr>\n",
       "  </tbody>\n",
       "</table>\n",
       "<p>6000 rows × 8 columns</p>\n",
       "</div>"
      ],
      "text/plain": [
       "      Canceled  Month  DepartureTime  UniqueCarrier  SchedElapsedTime  \\\n",
       "0        False  False          False          False             False   \n",
       "1        False  False          False          False             False   \n",
       "2        False  False          False          False             False   \n",
       "3        False  False          False          False             False   \n",
       "4        False  False          False          False             False   \n",
       "5        False  False          False          False             False   \n",
       "6        False  False          False          False             False   \n",
       "7        False  False          False          False             False   \n",
       "8        False  False          False          False             False   \n",
       "9        False  False          False          False             False   \n",
       "10       False  False          False          False             False   \n",
       "11       False  False          False          False             False   \n",
       "12       False  False          False          False             False   \n",
       "13       False  False          False          False             False   \n",
       "14       False  False          False          False             False   \n",
       "15       False  False          False          False             False   \n",
       "16       False  False          False          False             False   \n",
       "17       False  False          False          False             False   \n",
       "18       False  False          False          False             False   \n",
       "19       False  False          False          False             False   \n",
       "20       False  False          False          False             False   \n",
       "21       False  False          False          False             False   \n",
       "22       False  False          False          False             False   \n",
       "23       False  False          False          False             False   \n",
       "24       False  False          False          False             False   \n",
       "25       False  False          False          False             False   \n",
       "26       False  False          False          False             False   \n",
       "27       False  False          False          False             False   \n",
       "28       False  False          False          False             False   \n",
       "29       False  False          False          False             False   \n",
       "...        ...    ...            ...            ...               ...   \n",
       "5970     False  False          False          False             False   \n",
       "5971     False  False          False          False             False   \n",
       "5972     False  False          False          False             False   \n",
       "5973     False  False          False          False             False   \n",
       "5974     False  False          False          False             False   \n",
       "5975     False  False          False          False             False   \n",
       "5976     False  False          False          False             False   \n",
       "5977     False  False          False          False             False   \n",
       "5978     False  False          False          False             False   \n",
       "5979     False  False          False          False             False   \n",
       "5980     False  False          False          False             False   \n",
       "5981     False  False          False          False             False   \n",
       "5982     False  False          False          False             False   \n",
       "5983     False  False          False          False             False   \n",
       "5984     False  False          False          False             False   \n",
       "5985     False  False          False          False             False   \n",
       "5986     False  False          False          False             False   \n",
       "5987     False  False          False          False             False   \n",
       "5988     False  False          False          False             False   \n",
       "5989     False  False          False          False             False   \n",
       "5990     False  False          False          False             False   \n",
       "5991     False  False          False          False             False   \n",
       "5992     False  False          False          False             False   \n",
       "5993     False  False          False          False             False   \n",
       "5994     False  False          False          False             False   \n",
       "5995     False  False          False          False             False   \n",
       "5996     False  False          False          False             False   \n",
       "5997     False  False          False          False             False   \n",
       "5998     False  False          False          False             False   \n",
       "5999     False  False          False          False             False   \n",
       "\n",
       "      ArrDelay  DepDelay  Distance  \n",
       "0        False     False     False  \n",
       "1        False     False     False  \n",
       "2        False     False     False  \n",
       "3        False     False     False  \n",
       "4        False     False     False  \n",
       "5        False     False     False  \n",
       "6        False     False     False  \n",
       "7        False     False     False  \n",
       "8        False     False     False  \n",
       "9        False     False     False  \n",
       "10       False     False     False  \n",
       "11       False     False     False  \n",
       "12       False     False     False  \n",
       "13       False     False     False  \n",
       "14       False     False     False  \n",
       "15       False     False     False  \n",
       "16       False     False     False  \n",
       "17       False     False     False  \n",
       "18       False     False     False  \n",
       "19       False     False     False  \n",
       "20       False     False     False  \n",
       "21       False     False     False  \n",
       "22       False     False     False  \n",
       "23       False     False     False  \n",
       "24       False     False     False  \n",
       "25       False     False     False  \n",
       "26       False     False     False  \n",
       "27       False     False     False  \n",
       "28       False     False     False  \n",
       "29       False     False     False  \n",
       "...        ...       ...       ...  \n",
       "5970     False     False     False  \n",
       "5971     False     False     False  \n",
       "5972     False     False     False  \n",
       "5973     False     False     False  \n",
       "5974     False     False     False  \n",
       "5975     False     False     False  \n",
       "5976     False     False     False  \n",
       "5977     False     False     False  \n",
       "5978     False     False     False  \n",
       "5979     False     False     False  \n",
       "5980     False     False     False  \n",
       "5981     False     False     False  \n",
       "5982     False     False     False  \n",
       "5983     False     False     False  \n",
       "5984     False     False     False  \n",
       "5985     False     False     False  \n",
       "5986     False     False     False  \n",
       "5987     False     False     False  \n",
       "5988     False     False     False  \n",
       "5989     False     False     False  \n",
       "5990     False     False     False  \n",
       "5991     False     False     False  \n",
       "5992     False     False     False  \n",
       "5993     False     False     False  \n",
       "5994     False     False     False  \n",
       "5995     False     False     False  \n",
       "5996     False     False     False  \n",
       "5997     False     False     False  \n",
       "5998     False     False     False  \n",
       "5999     False     False     False  \n",
       "\n",
       "[6000 rows x 8 columns]"
      ]
     },
     "execution_count": 166,
     "metadata": {},
     "output_type": "execute_result"
    }
   ],
   "source": [
    "# See whether existing missing values \n",
    "pd.isnull(data)\n"
   ]
  },
  {
   "cell_type": "code",
   "execution_count": 116,
   "metadata": {},
   "outputs": [
    {
     "name": "stdout",
     "output_type": "stream",
     "text": [
      "Canceled              0.372709\n",
      "Month                 3.436325\n",
      "DepartureTime       459.118234\n",
      "SchedElapsedTime     78.064979\n",
      "ArrDelay             35.763134\n",
      "DepDelay             31.669299\n",
      "Distance            646.666931\n",
      "dtype: float64\n"
     ]
    }
   ],
   "source": [
    "# See the values' flutuation \n",
    "print (data.std())"
   ]
  },
  {
   "cell_type": "code",
   "execution_count": 176,
   "metadata": {},
   "outputs": [
    {
     "name": "stdout",
     "output_type": "stream",
     "text": [
      "UniqueCarrier    AA    DL    UA\n",
      "Canceled                       \n",
      "0              1983  1499  1518\n",
      "1               493   189   318\n"
     ]
    }
   ],
   "source": [
    "# To have a traditional probability perspective answer for the question: \n",
    "\n",
    "import pandas as pd\n",
    "print(pd.crosstab(data['Canceled'], data['UniqueCarrier'], rownames=['Canceled']))\n",
    "\n",
    "Cancellratio_AA = 493/(1983+493)\n",
    "Cancellratio_DL = 189/(1499+189)\n",
    "Cancellratio_UA = 318/(1518+318)"
   ]
  },
  {
   "cell_type": "code",
   "execution_count": 173,
   "metadata": {},
   "outputs": [
    {
     "name": "stdout",
     "output_type": "stream",
     "text": [
      "0.1991114701130856\n"
     ]
    }
   ],
   "source": [
    "print(Cancellratio_AA)"
   ]
  },
  {
   "cell_type": "code",
   "execution_count": 174,
   "metadata": {},
   "outputs": [
    {
     "name": "stdout",
     "output_type": "stream",
     "text": [
      "0.11196682464454977\n"
     ]
    }
   ],
   "source": [
    "print(Cancellratio_DL)"
   ]
  },
  {
   "cell_type": "code",
   "execution_count": 175,
   "metadata": {},
   "outputs": [
    {
     "name": "stdout",
     "output_type": "stream",
     "text": [
      "0.17320261437908496\n"
     ]
    }
   ],
   "source": [
    "print(Cancellratio_UA)"
   ]
  },
  {
   "cell_type": "markdown",
   "metadata": {},
   "source": [
    "Here we could conclude that from our existing dataset, the cancellation ratio of Airline DL is the lowest, however, this approach is biased by our dataset, therefore, the final answer would be provided by the log-ratio of the logistic model. "
   ]
  },
  {
   "cell_type": "markdown",
   "metadata": {},
   "source": [
    "### 2.3 Data visualization "
   ]
  },
  {
   "cell_type": "code",
   "execution_count": 180,
   "metadata": {},
   "outputs": [
    {
     "data": {
      "image/png": "[encoded data removed]",
      "text/plain": [
       "<matplotlib.figure.Figure at 0x12bdec748>"
      ]
     },
     "metadata": {},
     "output_type": "display_data"
    }
   ],
   "source": [
    "import matplotlib.pyplot as plt\n",
    "data.hist()\n",
    "pl.subplots_adjust(left=0.08, right=0.95, wspace=1, hspace=1)\n",
    "pl.show()"
   ]
  },
  {
   "cell_type": "markdown",
   "metadata": {},
   "source": [
    "Here we can see our dataset is not very balanced, there are much less cancellation cases than non-cancellation, therefore, in our model evalution, we need compare our prediction with guessing non-cancellation all the time."
   ]
  },
  {
   "cell_type": "code",
   "execution_count": 192,
   "metadata": {},
   "outputs": [
    {
     "data": {
      "image/png": "[encoded data removed]",
      "text/plain": [
       "<matplotlib.figure.Figure at 0x12be694a8>"
      ]
     },
     "metadata": {},
     "output_type": "display_data"
    }
   ],
   "source": [
    "import seaborn as sns\n",
    "import matplotlib.pyplot as plt\n",
    "corr = data.corr()\n",
    "sns.heatmap(corr, \n",
    "            xticklabels=corr.columns.values,\n",
    "            yticklabels=corr.columns.values)\n",
    "plt.show()"
   ]
  },
  {
   "cell_type": "markdown",
   "metadata": {},
   "source": [
    "Here we can see the ArrDelay and DepDelay are correlated with each other, and it is in our common sense, if the flight departs late, it is highly possibly it will also arrive late. Therefore, if our future modelling didn't perform well, we may work on getting rid of one of them. "
   ]
  },
  {
   "cell_type": "markdown",
   "metadata": {},
   "source": [
    "### 2.4  Dummy variables"
   ]
  },
  {
   "cell_type": "markdown",
   "metadata": {},
   "source": [
    "Here, to deal with the categorical preditor, I used a dummy coding to transfer it from sting to numerical, and it is in line with the logistica model, thus we could interprete it afterwards. "
   ]
  },
  {
   "cell_type": "code",
   "execution_count": 181,
   "metadata": {},
   "outputs": [
    {
     "name": "stdout",
     "output_type": "stream",
     "text": [
      "   Carrier_AA  Carrier_DL  Carrier_UA\n",
      "0           0           0           1\n",
      "1           0           1           0\n",
      "2           0           0           1\n",
      "3           1           0           0\n",
      "4           0           0           1\n"
     ]
    }
   ],
   "source": [
    "dummy_ranks = pd.get_dummies(data['UniqueCarrier'], prefix='Carrier')\n",
    "print(dummy_ranks.head())"
   ]
  },
  {
   "cell_type": "code",
   "execution_count": 182,
   "metadata": {},
   "outputs": [
    {
     "name": "stdout",
     "output_type": "stream",
     "text": [
      "   Canceled  Month  DepartureTime  SchedElapsedTime  ArrDelay  DepDelay  \\\n",
      "0         1     12            814               134         0         0   \n",
      "1         1     12            830                90         0         0   \n",
      "2         1      1           1835               213         0         0   \n",
      "3         1      4           1730                80         0         0   \n",
      "4         1      7           1442               103         0         0   \n",
      "\n",
      "   Distance  Carrier_DL  Carrier_UA  intercept  \n",
      "0       679           0           1        1.0  \n",
      "1       214           1           0        1.0  \n",
      "2      1605           0           1        1.0  \n",
      "3       235           0           0        1.0  \n",
      "4       413           0           1        1.0  \n"
     ]
    }
   ],
   "source": [
    "# Here I include the intercept as the Carrier_AA. \n",
    "cols_to_keep = ['Canceled','Month','DepartureTime','SchedElapsedTime','ArrDelay',\n",
    "                'DepDelay', 'Distance']\n",
    "    \n",
    "logdata = data[cols_to_keep].join(dummy_ranks.loc[:, ['Carrier_DL','Carrier_UA']])\n",
    "logdata['intercept'] = 1.0\n",
    "print (logdata.head())"
   ]
  },
  {
   "cell_type": "markdown",
   "metadata": {},
   "source": [
    "### 2.5  Performing the regression"
   ]
  },
  {
   "cell_type": "code",
   "execution_count": 183,
   "metadata": {},
   "outputs": [
    {
     "name": "stdout",
     "output_type": "stream",
     "text": [
      "Optimization terminated successfully.\n",
      "         Current function value: 0.408349\n",
      "         Iterations 8\n"
     ]
    }
   ],
   "source": [
    "import statsmodels.api as sm\n",
    "\n",
    "train_cols = logdata.columns[1:]\n",
    "# Index([gre, gpa, prestige_2, prestige_3, prestige_4], dtype=object)\n",
    "\n",
    "logit = sm.Logit(logdata['Canceled'], logdata[train_cols])\n",
    "\n",
    "# fit the model\n",
    "result = logit.fit()"
   ]
  },
  {
   "cell_type": "markdown",
   "metadata": {},
   "source": [
    "### 2.6  Interpreting the results"
   ]
  },
  {
   "cell_type": "code",
   "execution_count": 152,
   "metadata": {},
   "outputs": [
    {
     "name": "stdout",
     "output_type": "stream",
     "text": [
      "                           Logit Regression Results                           \n",
      "==============================================================================\n",
      "Dep. Variable:               Canceled   No. Observations:                 6000\n",
      "Model:                          Logit   Df Residuals:                     5991\n",
      "Method:                           MLE   Df Model:                            8\n",
      "Date:                Sun, 26 Nov 2017   Pseudo R-squ.:                 0.09369\n",
      "Time:                        14:44:40   Log-Likelihood:                -2450.1\n",
      "converged:                       True   LL-Null:                       -2703.4\n",
      "                                        LLR p-value:                2.772e-104\n",
      "====================================================================================\n",
      "                       coef    std err          z      P>|z|      [0.025      0.975]\n",
      "------------------------------------------------------------------------------------\n",
      "Month               -0.1159      0.011    -10.638      0.000      -0.137      -0.095\n",
      "DepartureTime        0.0003   8.01e-05      3.306      0.001       0.000       0.000\n",
      "SchedElapsedTime     0.0184      0.003      6.960      0.000       0.013       0.024\n",
      "ArrDelay             0.0054      0.002      2.308      0.021       0.001       0.010\n",
      "DepDelay            -0.0462      0.005    -10.064      0.000      -0.055      -0.037\n",
      "Distance            -0.0027      0.000     -8.058      0.000      -0.003      -0.002\n",
      "Carrier_DL          -0.8847      0.097     -9.149      0.000      -1.074      -0.695\n",
      "Carrier_UA          -0.1773      0.083     -2.130      0.033      -0.340      -0.014\n",
      "intercept           -1.2545      0.181     -6.934      0.000      -1.609      -0.900\n",
      "====================================================================================\n"
     ]
    }
   ],
   "source": [
    "from scipy import stats\n",
    "stats.chisqprob = lambda chisq, df: stats.chi2.sf(chisq, df)\n",
    "\n",
    "print(result.summary())"
   ]
  },
  {
   "cell_type": "markdown",
   "metadata": {},
   "source": [
    "Take the exponential of each of the coefficients to generate the odds ratios. This tells you how a 1 unit increase or decrease in a variable affects the odds of being cancelled. \n",
    "\n",
    "The odds equals the ratio between the probability of an event and  the probability of a non-event. Here our event is flight cancellation. And the odds ratio is the ratio between two cases'odds.\n",
    "\n",
    "\n",
    "For example, we can expect as an odds ratio less than 1 implies a negative relationship,larger than 1 implies postive relationship. Here intercept, i.e. Carrier_AA has the least odds ratio, which means the odds of carrier_AA being cancelled is 0.28 times of the odds of other two carrier being cancelled. \n",
    "\n",
    "Therefore, we could advise our customers that AA airline, has the least odds, or put it another way, has the least probability of cancelation, i.e. the least risk of cancellation."
   ]
  },
  {
   "cell_type": "code",
   "execution_count": 185,
   "metadata": {},
   "outputs": [
    {
     "name": "stdout",
     "output_type": "stream",
     "text": [
      "Month               0.890554\n",
      "DepartureTime       1.000265\n",
      "SchedElapsedTime    1.018618\n",
      "ArrDelay            1.005430\n",
      "DepDelay            0.954870\n",
      "Distance            0.997308\n",
      "Carrier_DL          0.412851\n",
      "Carrier_UA          0.837520\n",
      "intercept           0.285230\n",
      "dtype: float64\n"
     ]
    }
   ],
   "source": [
    "# Calculate the odds ratio. \n",
    "print (np.exp(result.params))\n"
   ]
  },
  {
   "cell_type": "markdown",
   "metadata": {},
   "source": [
    "### 2.7  Predict on new data"
   ]
  },
  {
   "cell_type": "markdown",
   "metadata": {},
   "source": [
    "Here I wrote a function using logistic model output to predict whether a flight will be canceled. In this case, you need to have the predictors values ready and then you could call the function, it will return to a proability of being cancelled based on the input.\n",
    "\n",
    "Normally, we use 0.5 as a threhold for the classfication, if the proability is less than 0.5, we could predict it will not be cancelled based on the information"
   ]
  },
  {
   "cell_type": "code",
   "execution_count": 189,
   "metadata": {},
   "outputs": [
    {
     "data": {
      "text/plain": [
       "array([  1.08941043e-230])"
      ]
     },
     "execution_count": 189,
     "metadata": {},
     "output_type": "execute_result"
    }
   ],
   "source": [
    "x=[12,800,134,0,0,0,600,0,0]\n",
    "\n",
    "def predict_cancel_log(x):\n",
    "    y_pred = result.predict(x)\n",
    "    return(y_pred)\n",
    "\n",
    "predict_cancel_log(x)"
   ]
  },
  {
   "cell_type": "markdown",
   "metadata": {},
   "source": [
    "##  3 . More prediction models \n",
    "Here I will use other machine learning methods like neural network, K-NN, etc. to do the prediction. "
   ]
  },
  {
   "cell_type": "markdown",
   "metadata": {},
   "source": [
    "### 3.1 Neural network \n",
    "\n",
    "\n",
    "#### 3.1.1 Encoding categorical values"
   ]
  },
  {
   "cell_type": "code",
   "execution_count": 193,
   "metadata": {},
   "outputs": [
    {
     "data": {
      "text/html": [
       "<div>\n",
       "<style>\n",
       "    .dataframe thead tr:only-child th {\n",
       "        text-align: right;\n",
       "    }\n",
       "\n",
       "    .dataframe thead th {\n",
       "        text-align: left;\n",
       "    }\n",
       "\n",
       "    .dataframe tbody tr th {\n",
       "        vertical-align: top;\n",
       "    }\n",
       "</style>\n",
       "<table border=\"1\" class=\"dataframe\">\n",
       "  <thead>\n",
       "    <tr style=\"text-align: right;\">\n",
       "      <th></th>\n",
       "      <th>Canceled</th>\n",
       "      <th>Month</th>\n",
       "      <th>DepartureTime</th>\n",
       "      <th>UniqueCarrier</th>\n",
       "      <th>SchedElapsedTime</th>\n",
       "      <th>ArrDelay</th>\n",
       "      <th>DepDelay</th>\n",
       "      <th>Distance</th>\n",
       "    </tr>\n",
       "  </thead>\n",
       "  <tbody>\n",
       "    <tr>\n",
       "      <th>0</th>\n",
       "      <td>1</td>\n",
       "      <td>12</td>\n",
       "      <td>814</td>\n",
       "      <td>2</td>\n",
       "      <td>134</td>\n",
       "      <td>0</td>\n",
       "      <td>0</td>\n",
       "      <td>679</td>\n",
       "    </tr>\n",
       "    <tr>\n",
       "      <th>1</th>\n",
       "      <td>1</td>\n",
       "      <td>12</td>\n",
       "      <td>830</td>\n",
       "      <td>1</td>\n",
       "      <td>90</td>\n",
       "      <td>0</td>\n",
       "      <td>0</td>\n",
       "      <td>214</td>\n",
       "    </tr>\n",
       "    <tr>\n",
       "      <th>2</th>\n",
       "      <td>1</td>\n",
       "      <td>1</td>\n",
       "      <td>1835</td>\n",
       "      <td>2</td>\n",
       "      <td>213</td>\n",
       "      <td>0</td>\n",
       "      <td>0</td>\n",
       "      <td>1605</td>\n",
       "    </tr>\n",
       "    <tr>\n",
       "      <th>3</th>\n",
       "      <td>1</td>\n",
       "      <td>4</td>\n",
       "      <td>1730</td>\n",
       "      <td>0</td>\n",
       "      <td>80</td>\n",
       "      <td>0</td>\n",
       "      <td>0</td>\n",
       "      <td>235</td>\n",
       "    </tr>\n",
       "    <tr>\n",
       "      <th>4</th>\n",
       "      <td>1</td>\n",
       "      <td>7</td>\n",
       "      <td>1442</td>\n",
       "      <td>2</td>\n",
       "      <td>103</td>\n",
       "      <td>0</td>\n",
       "      <td>0</td>\n",
       "      <td>413</td>\n",
       "    </tr>\n",
       "  </tbody>\n",
       "</table>\n",
       "</div>"
      ],
      "text/plain": [
       "   Canceled  Month  DepartureTime  UniqueCarrier  SchedElapsedTime  ArrDelay  \\\n",
       "0         1     12            814              2               134         0   \n",
       "1         1     12            830              1                90         0   \n",
       "2         1      1           1835              2               213         0   \n",
       "3         1      4           1730              0                80         0   \n",
       "4         1      7           1442              2               103         0   \n",
       "\n",
       "   DepDelay  Distance  \n",
       "0         0       679  \n",
       "1         0       214  \n",
       "2         0      1605  \n",
       "3         0       235  \n",
       "4         0       413  "
      ]
     },
     "execution_count": 193,
     "metadata": {},
     "output_type": "execute_result"
    }
   ],
   "source": [
    "\n",
    "from sklearn.preprocessing import LabelBinarizer,LabelEncoder\n",
    "encoder = LabelEncoder()\n",
    "data['UniqueCarrier'] = encoder.fit_transform(data['UniqueCarrier'].astype('str'))\n",
    "\n",
    "# AA:0, DL:1, UA:2\n",
    "data.head(5)"
   ]
  },
  {
   "cell_type": "markdown",
   "metadata": {},
   "source": [
    "#### 3.1.2  Feature extraction and selection"
   ]
  },
  {
   "cell_type": "markdown",
   "metadata": {},
   "source": [
    "If dealing with unstructured data like text or image, we first need extract numerical features from data, here I could only do the feature selection part, it's a trial and error process, to begin with, I tried with the whole features provided. "
   ]
  },
  {
   "cell_type": "markdown",
   "metadata": {},
   "source": [
    "#### 3.1.3  Time to get to the model "
   ]
  },
  {
   "cell_type": "code",
   "execution_count": 200,
   "metadata": {},
   "outputs": [],
   "source": [
    "# Import train_test_split from sklearn.model_selection\n",
    "from sklearn.model_selection import train_test_split\n",
    "\n",
    "# Specify the data \n",
    "# X = data.loc[:,['Month','DepartureTime','UniqueCarrier','SchedElapsedTime','ArrDelay',' DepDelay', 'Distance']]\n",
    "# y = data.loc[:,'Canceled']\n",
    "# Specify the target labels and flatten the array\n",
    "X = data.ix[:,1:8]\n",
    "y = np.ravel(data.Canceled)\n",
    "\n",
    "\n",
    "# Split the data up in train and test sets\n",
    "X_train, X_test, y_train, y_test = train_test_split(X, y, test_size=0.33, random_state=42)\n",
    "\n",
    "\n",
    "# Import StandardScaler from sklearn.preprocessing\n",
    "from sklearn.preprocessing import StandardScaler\n",
    "\n",
    "# Define the scaler \n",
    "scaler = StandardScaler().fit(X_train)\n",
    "\n",
    "# Scale the train set\n",
    "X_train = scaler.transform(X_train)\n",
    "\n",
    "# Scale the test set\n",
    "X_test = scaler.transform(X_test)\n",
    "\n",
    "# Import `Sequential` from `keras.models`\n",
    "from keras.models import Sequential\n",
    "\n",
    "# Import `Dense` from `keras.layers`\n",
    "from keras.layers import Dense\n",
    "\n",
    "# Initialize the constructor\n",
    "model = Sequential()\n",
    "\n",
    "# Add an input layer \n",
    "model.add(Dense(8, activation='relu', input_shape=(7,)))\n",
    "\n",
    "# Add one hidden layer \n",
    "model.add(Dense(8, activation='relu'))\n",
    "\n",
    "# Add an output layer \n",
    "model.add(Dense(1, activation='sigmoid'))"
   ]
  },
  {
   "cell_type": "markdown",
   "metadata": {},
   "source": [
    "#### 3.1.4  Model output"
   ]
  },
  {
   "cell_type": "code",
   "execution_count": 201,
   "metadata": {},
   "outputs": [
    {
     "name": "stdout",
     "output_type": "stream",
     "text": [
      "_________________________________________________________________\n",
      "Layer (type)                 Output Shape              Param #   \n",
      "=================================================================\n",
      "dense_10 (Dense)             (None, 8)                 64        \n",
      "_________________________________________________________________\n",
      "dense_11 (Dense)             (None, 8)                 72        \n",
      "_________________________________________________________________\n",
      "dense_12 (Dense)             (None, 1)                 9         \n",
      "=================================================================\n",
      "Total params: 145\n",
      "Trainable params: 145\n",
      "Non-trainable params: 0\n",
      "_________________________________________________________________\n"
     ]
    },
    {
     "data": {
      "text/plain": [
       "[array([[ 0.27024132,  0.44427234, -0.3544026 , -0.04719263,  0.07320273,\n",
       "          0.60442156,  0.44087499,  0.33532733],\n",
       "        [ 0.33530182, -0.3213338 ,  0.01171237,  0.45314068,  0.0979048 ,\n",
       "          0.62229222,  0.44626969, -0.22074386],\n",
       "        [ 0.51410717, -0.29249054,  0.35965592,  0.26467764, -0.39673543,\n",
       "         -0.58547187,  0.18905735,  0.10271639],\n",
       "        [-0.54689115,  0.40789789, -0.59163904, -0.21388069,  0.1132496 ,\n",
       "         -0.22547728,  0.5441851 ,  0.26034153],\n",
       "        [-0.61801988,  0.42736715,  0.30368811, -0.00454342,  0.48824567,\n",
       "         -0.17185077, -0.36817494, -0.38221249],\n",
       "        [ 0.60518414, -0.11153978, -0.08666319,  0.21750414, -0.57183528,\n",
       "         -0.39851463, -0.52662295,  0.03010041],\n",
       "        [-0.13790873, -0.55722576, -0.34223723,  0.1035071 ,  0.4770599 ,\n",
       "         -0.24313921,  0.55417424,  0.35044032]], dtype=float32),\n",
       " array([ 0.,  0.,  0.,  0.,  0.,  0.,  0.,  0.], dtype=float32),\n",
       " array([[-0.47457457, -0.49574658,  0.09515452, -0.45104635,  0.13330793,\n",
       "          0.51392061,  0.5861581 ,  0.17459351],\n",
       "        [ 0.60936254, -0.32768705,  0.49925095, -0.26594442,  0.28619301,\n",
       "          0.36040092, -0.50133961,  0.44649237],\n",
       "        [-0.31470129, -0.58124095,  0.30694968, -0.49005824,  0.29671323,\n",
       "          0.31232178, -0.44504499, -0.11072862],\n",
       "        [-0.08747649,  0.22940898,  0.03074545,  0.39211446, -0.0428434 ,\n",
       "          0.23264176,  0.16345906,  0.41043562],\n",
       "        [ 0.24646205, -0.27775604, -0.55471772,  0.29533017,  0.04626244,\n",
       "          0.06547022, -0.21932587,  0.18385434],\n",
       "        [-0.45646298, -0.4794656 , -0.13481   ,  0.60188526, -0.42483318,\n",
       "         -0.43949839, -0.03097087,  0.15591913],\n",
       "        [ 0.49046928,  0.07936114, -0.58555341,  0.12956345, -0.15669817,\n",
       "         -0.15509334,  0.45932239, -0.51327926],\n",
       "        [ 0.06793642, -0.30632639, -0.08429801,  0.22041637, -0.09341156,\n",
       "          0.48165327,  0.60349518,  0.26061714]], dtype=float32),\n",
       " array([ 0.,  0.,  0.,  0.,  0.,  0.,  0.,  0.], dtype=float32),\n",
       " array([[ 0.36790061],\n",
       "        [-0.8096813 ],\n",
       "        [ 0.3053714 ],\n",
       "        [ 0.05658859],\n",
       "        [ 0.75308764],\n",
       "        [-0.73147792],\n",
       "        [-0.22040111],\n",
       "        [ 0.11312699]], dtype=float32),\n",
       " array([ 0.], dtype=float32)]"
      ]
     },
     "execution_count": 201,
     "metadata": {},
     "output_type": "execute_result"
    }
   ],
   "source": [
    "# Model output shape\n",
    "model.output_shape\n",
    "\n",
    "# Model summary\n",
    "model.summary()\n",
    "\n",
    "# Model config\n",
    "model.get_config()\n",
    "\n",
    "# List all weight tensors \n",
    "model.get_weights()"
   ]
  },
  {
   "cell_type": "code",
   "execution_count": 202,
   "metadata": {},
   "outputs": [
    {
     "name": "stdout",
     "output_type": "stream",
     "text": [
      "Epoch 1/20\n",
      "4020/4020 [==============================] - 10s 2ms/step - loss: 0.4207 - acc: 0.8376\n",
      "Epoch 2/20\n",
      "4020/4020 [==============================] - 10s 2ms/step - loss: 0.3613 - acc: 0.8403\n",
      "Epoch 3/20\n",
      "4020/4020 [==============================] - 9s 2ms/step - loss: 0.2863 - acc: 0.8510\n",
      "Epoch 4/20\n",
      "4020/4020 [==============================] - 10s 2ms/step - loss: 0.1925 - acc: 0.9286\n",
      "Epoch 5/20\n",
      "4020/4020 [==============================] - 10s 2ms/step - loss: 0.1358 - acc: 0.9585\n",
      "Epoch 6/20\n",
      "4020/4020 [==============================] - 10s 2ms/step - loss: 0.1073 - acc: 0.9662\n",
      "Epoch 7/20\n",
      "4020/4020 [==============================] - 11s 3ms/step - loss: 0.0928 - acc: 0.9709\n",
      "Epoch 8/20\n",
      "4020/4020 [==============================] - 10s 2ms/step - loss: 0.0855 - acc: 0.9724\n",
      "Epoch 9/20\n",
      "4020/4020 [==============================] - 9s 2ms/step - loss: 0.0790 - acc: 0.9746\n",
      "Epoch 10/20\n",
      "4020/4020 [==============================] - 10s 2ms/step - loss: 0.0741 - acc: 0.9781\n",
      "Epoch 11/20\n",
      "4020/4020 [==============================] - 11s 3ms/step - loss: 0.0708 - acc: 0.9779\n",
      "Epoch 12/20\n",
      "4020/4020 [==============================] - 11s 3ms/step - loss: 0.0695 - acc: 0.9811\n",
      "Epoch 13/20\n",
      "4020/4020 [==============================] - 11s 3ms/step - loss: 0.0700 - acc: 0.9808\n",
      "Epoch 14/20\n",
      "4020/4020 [==============================] - 11s 3ms/step - loss: 0.0665 - acc: 0.9823\n",
      "Epoch 15/20\n",
      "4020/4020 [==============================] - 10s 3ms/step - loss: 0.0671 - acc: 0.9811\n",
      "Epoch 16/20\n",
      "4020/4020 [==============================] - 11s 3ms/step - loss: 0.0657 - acc: 0.9803\n",
      "Epoch 17/20\n",
      "4020/4020 [==============================] - 11s 3ms/step - loss: 0.0685 - acc: 0.9811\n",
      "Epoch 18/20\n",
      "4020/4020 [==============================] - 11s 3ms/step - loss: 0.0664 - acc: 0.9811\n",
      "Epoch 19/20\n",
      "4020/4020 [==============================] - 11s 3ms/step - loss: 0.0674 - acc: 0.9816\n",
      "Epoch 20/20\n",
      "4020/4020 [==============================] - 10s 3ms/step - loss: 0.0644 - acc: 0.9828\n"
     ]
    },
    {
     "data": {
      "text/plain": [
       "<keras.callbacks.History at 0x12bce2fd0>"
      ]
     },
     "execution_count": 202,
     "metadata": {},
     "output_type": "execute_result"
    }
   ],
   "source": [
    "model.compile(loss='binary_crossentropy',\n",
    "              optimizer='adam',\n",
    "              metrics=['accuracy'])\n",
    "                   \n",
    "model.fit(X_train, y_train,epochs=20, batch_size=1, verbose=1)"
   ]
  },
  {
   "cell_type": "markdown",
   "metadata": {},
   "source": [
    "#### 3.1.5  Model evaluation"
   ]
  },
  {
   "cell_type": "code",
   "execution_count": 205,
   "metadata": {},
   "outputs": [
    {
     "name": "stdout",
     "output_type": "stream",
     "text": [
      "1980/1980 [==============================] - 0s 41us/step\n",
      "[0.16914608288895, 0.93131313155395812]\n"
     ]
    }
   ],
   "source": [
    "y_pred = model.predict(X_test)\n",
    "score = model.evaluate(X_test, y_test,verbose=1)\n",
    "\n",
    "print(score)"
   ]
  },
  {
   "cell_type": "markdown",
   "metadata": {},
   "source": [
    "The score is a list that holds the combination of the loss and the accuracy. In this case, you see that both seem very great. "
   ]
  },
  {
   "cell_type": "markdown",
   "metadata": {},
   "source": [
    "#### 3.1.6  How to run the model by calling function \n",
    "In this neural network, since I used a sigmoid activation function for the output, so the output would be the probability of cancellation, and we could choose 0.5 as the threhold as well. "
   ]
  },
  {
   "cell_type": "code",
   "execution_count": 218,
   "metadata": {},
   "outputs": [
    {
     "data": {
      "text/plain": [
       "array([[ 0.95814508]], dtype=float32)"
      ]
     },
     "execution_count": 218,
     "metadata": {},
     "output_type": "execute_result"
    }
   ],
   "source": [
    "# for example, a new observation is:\n",
    "X_new = [[12,830,2,90,0,0,214]]\n",
    "\n",
    "\n",
    "def predict_cancel_neural(X):\n",
    "    X_newstandard = scaler.transform(X)\n",
    "    y_pred = model.predict(X_newstandard)\n",
    "    return y_pred\n",
    "# Here we predict it will be cancelled in this input.\n",
    "predict_cancel_neural(X_new)"
   ]
  },
  {
   "cell_type": "markdown",
   "metadata": {},
   "source": [
    "### 3.2 Naive_bayes\n",
    "#### 3.2.1  Bernoulli\n",
    "You could call the predict_cancel_BernoulliNB function on new data and it will return to 0 or 1, representing not cancel or cancel, respectively. "
   ]
  },
  {
   "cell_type": "code",
   "execution_count": 217,
   "metadata": {},
   "outputs": [
    {
     "data": {
      "text/plain": [
       "array([0])"
      ]
     },
     "execution_count": 217,
     "metadata": {},
     "output_type": "execute_result"
    }
   ],
   "source": [
    "from sklearn.naive_bayes import BernoulliNB\n",
    "clf = BernoulliNB()\n",
    "clf.fit(X, y)\n",
    "BernoulliNB(alpha=1.0, binarize=0.0, class_prior=None, fit_prior=True)\n",
    "\n",
    "def predict_cancel_BernoulliNB(X): \n",
    "    y_pred = clf.predict(X)\n",
    "    return y_pred\n",
    "\n",
    "predict_cancel_BernoulliNB(X_new)"
   ]
  },
  {
   "cell_type": "markdown",
   "metadata": {},
   "source": [
    "#### 3.2.2 Gaussian"
   ]
  },
  {
   "cell_type": "code",
   "execution_count": 219,
   "metadata": {},
   "outputs": [
    {
     "name": "stdout",
     "output_type": "stream",
     "text": [
      "Number of mislabeled points out of a total 6000 points : 141\n"
     ]
    },
    {
     "data": {
      "text/plain": [
       "array([1])"
      ]
     },
     "execution_count": 219,
     "metadata": {},
     "output_type": "execute_result"
    }
   ],
   "source": [
    "\n",
    "from sklearn.naive_bayes import GaussianNB\n",
    "gnb = GaussianNB()\n",
    "y_pred = gnb.fit(X, y).predict(X)\n",
    "print(\"Number of mislabeled points out of a total %d points : %d\" \n",
    "      % (data.shape[0],(y != y_pred).sum()))\n",
    "\n",
    "def predict_cancel_GaussianNB(X_new): \n",
    "    y_pred = gnb.fit(X, y).predict(X_new)\n",
    "    return y_pred\n",
    "\n",
    "predict_cancel_GaussianNB(X_new)"
   ]
  },
  {
   "cell_type": "markdown",
   "metadata": {},
   "source": [
    "### 3.3 K-NN"
   ]
  },
  {
   "cell_type": "code",
   "execution_count": 220,
   "metadata": {},
   "outputs": [
    {
     "data": {
      "text/plain": [
       "array([1])"
      ]
     },
     "execution_count": 220,
     "metadata": {},
     "output_type": "execute_result"
    }
   ],
   "source": [
    "# 3.2  instantiate a K-NN model\n",
    "from sklearn.neighbors import KNeighborsClassifier\n",
    "\n",
    "# 2. instantiate the model (with the default parameters)\n",
    "knn = KNeighborsClassifier()\n",
    "\n",
    "# In order to make a prediction, \n",
    "# the new observation must have the same features as the training observations, both in number and meaning.\n",
    "\n",
    "# 3. fit the model with data (occurs in-place)\n",
    "knn.fit(X, y)\n",
    "\n",
    "# 4. predict the response for a new observation\n",
    "# here you pass in 4 features, the number of features that have been learned\n",
    "knn.predict(X_new)\n",
    "\n",
    "\n",
    "def predict_cancel_KNN(X_new): \n",
    "    y_pred = knn.predict(X_new)\n",
    "    return y_pred\n",
    "\n",
    "predict_cancel_KNN(X_new)"
   ]
  },
  {
   "cell_type": "markdown",
   "metadata": {},
   "source": [
    "# 4. Final conclusion"
   ]
  },
  {
   "cell_type": "markdown",
   "metadata": {
    "collapsed": true
   },
   "source": [
    "To predict whether a flight will be canceled.The user could use all the above method including logistic regression,  neural network, different naive bayes, and k-nn functions to get the prediction, then determine the final answer with the majority of the output of the models.\n",
    "\n",
    "\n",
    "\n",
    "For example: in this case, with the X_new[12, 830, 2, 90, 0, 0, 214], only Bernoulli naive bayes predict would be non-cancellation, but others all think it would be cancelled, so we predict this case be cancelled. You can expand this analysis to many other new inputs as well.\n",
    "\n",
    "\n",
    "And for the dataset provided, I will suggest that AA airline has the least risk of cancellation comparing with other two. \n",
    "\n"
   ]
  }
 ],
 "metadata": {
  "anaconda-cloud": {},
  "kernelspec": {
   "display_name": "Python 3",
   "language": "python",
   "name": "python3"
  },
  "language_info": {
   "codemirror_mode": {
    "name": "ipython",
    "version": 3
   },
   "file_extension": ".py",
   "mimetype": "text/x-python",
   "name": "python",
   "nbconvert_exporter": "python",
   "pygments_lexer": "ipython3",
   "version": "3.6.2"
  }
 },
 "nbformat": 4,
 "nbformat_minor": 1
}
